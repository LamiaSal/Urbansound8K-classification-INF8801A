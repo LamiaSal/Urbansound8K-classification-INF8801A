{
 "cells": [
  {
   "attachments": {},
   "cell_type": "markdown",
   "metadata": {},
   "source": [
    "# Environmental Sound Classification using Deep Learning\n",
    "## >> Data Preprocessing"
   ]
  },
  {
   "cell_type": "code",
   "execution_count": 8,
   "metadata": {},
   "outputs": [
    {
     "name": "stdout",
     "output_type": "stream",
     "text": [
      "Requirement already satisfied: librosa==0.8.0 in /opt/miniconda3/envs/tpGBM/lib/python3.8/site-packages (0.8.0)\n",
      "Requirement already satisfied: numpy>=1.15.0 in /opt/miniconda3/envs/tpGBM/lib/python3.8/site-packages (from librosa==0.8.0) (1.23.5)\n",
      "Requirement already satisfied: decorator>=3.0.0 in /opt/miniconda3/envs/tpGBM/lib/python3.8/site-packages (from librosa==0.8.0) (5.1.1)\n",
      "Requirement already satisfied: resampy>=0.2.2 in /opt/miniconda3/envs/tpGBM/lib/python3.8/site-packages (from librosa==0.8.0) (0.4.2)\n",
      "Requirement already satisfied: joblib>=0.14 in /opt/miniconda3/envs/tpGBM/lib/python3.8/site-packages (from librosa==0.8.0) (1.2.0)\n",
      "Requirement already satisfied: soundfile>=0.9.0 in /opt/miniconda3/envs/tpGBM/lib/python3.8/site-packages (from librosa==0.8.0) (0.12.1)\n",
      "Requirement already satisfied: audioread>=2.0.0 in /opt/miniconda3/envs/tpGBM/lib/python3.8/site-packages (from librosa==0.8.0) (3.0.0)\n",
      "Requirement already satisfied: pooch>=1.0 in /opt/miniconda3/envs/tpGBM/lib/python3.8/site-packages (from librosa==0.8.0) (1.6.0)\n",
      "Requirement already satisfied: scikit-learn!=0.19.0,>=0.14.0 in /opt/miniconda3/envs/tpGBM/lib/python3.8/site-packages (from librosa==0.8.0) (1.2.2)\n",
      "Requirement already satisfied: numba>=0.43.0 in /opt/miniconda3/envs/tpGBM/lib/python3.8/site-packages (from librosa==0.8.0) (0.56.4)\n",
      "Requirement already satisfied: scipy>=1.0.0 in /opt/miniconda3/envs/tpGBM/lib/python3.8/site-packages (from librosa==0.8.0) (1.9.3)\n",
      "Requirement already satisfied: setuptools in /opt/miniconda3/envs/tpGBM/lib/python3.8/site-packages (from numba>=0.43.0->librosa==0.8.0) (65.6.3)\n",
      "Requirement already satisfied: importlib-metadata in /opt/miniconda3/envs/tpGBM/lib/python3.8/site-packages (from numba>=0.43.0->librosa==0.8.0) (6.1.0)\n",
      "Requirement already satisfied: llvmlite<0.40,>=0.39.0dev0 in /opt/miniconda3/envs/tpGBM/lib/python3.8/site-packages (from numba>=0.43.0->librosa==0.8.0) (0.39.1)\n",
      "Requirement already satisfied: appdirs>=1.3.0 in /opt/miniconda3/envs/tpGBM/lib/python3.8/site-packages (from pooch>=1.0->librosa==0.8.0) (1.4.4)\n",
      "Requirement already satisfied: requests>=2.19.0 in /opt/miniconda3/envs/tpGBM/lib/python3.8/site-packages (from pooch>=1.0->librosa==0.8.0) (2.28.2)\n",
      "Requirement already satisfied: packaging>=20.0 in /opt/miniconda3/envs/tpGBM/lib/python3.8/site-packages (from pooch>=1.0->librosa==0.8.0) (22.0)\n",
      "Requirement already satisfied: threadpoolctl>=2.0.0 in /opt/miniconda3/envs/tpGBM/lib/python3.8/site-packages (from scikit-learn!=0.19.0,>=0.14.0->librosa==0.8.0) (3.1.0)\n",
      "Requirement already satisfied: cffi>=1.0 in /opt/miniconda3/envs/tpGBM/lib/python3.8/site-packages (from soundfile>=0.9.0->librosa==0.8.0) (1.15.1)\n",
      "Requirement already satisfied: pycparser in /opt/miniconda3/envs/tpGBM/lib/python3.8/site-packages (from cffi>=1.0->soundfile>=0.9.0->librosa==0.8.0) (2.21)\n",
      "Requirement already satisfied: urllib3<1.27,>=1.21.1 in /opt/miniconda3/envs/tpGBM/lib/python3.8/site-packages (from requests>=2.19.0->pooch>=1.0->librosa==0.8.0) (1.26.15)\n",
      "Requirement already satisfied: charset-normalizer<4,>=2 in /opt/miniconda3/envs/tpGBM/lib/python3.8/site-packages (from requests>=2.19.0->pooch>=1.0->librosa==0.8.0) (3.1.0)\n",
      "Requirement already satisfied: idna<4,>=2.5 in /opt/miniconda3/envs/tpGBM/lib/python3.8/site-packages (from requests>=2.19.0->pooch>=1.0->librosa==0.8.0) (3.4)\n",
      "Requirement already satisfied: certifi>=2017.4.17 in /opt/miniconda3/envs/tpGBM/lib/python3.8/site-packages (from requests>=2.19.0->pooch>=1.0->librosa==0.8.0) (2022.12.7)\n",
      "Requirement already satisfied: zipp>=0.5 in /opt/miniconda3/envs/tpGBM/lib/python3.8/site-packages (from importlib-metadata->numba>=0.43.0->librosa==0.8.0) (3.11.0)\n",
      "Note: you may need to restart the kernel to use updated packages.\n"
     ]
    }
   ],
   "source": [
    "%pip install librosa==0.8.0"
   ]
  },
  {
   "cell_type": "code",
   "execution_count": 9,
   "metadata": {},
   "outputs": [],
   "source": [
    "import os\n",
    "\n",
    "import librosa\n",
    "import numpy as np\n",
    "import pandas as pd\n",
    "\n",
    "from tqdm import tqdm"
   ]
  },
  {
   "cell_type": "code",
   "execution_count": 7,
   "metadata": {},
   "outputs": [
    {
     "data": {
      "text/plain": [
       "'/Users/tomiwa2/Downloads/Courses/H23/INF8801A/Project/Urbansound8K-classification-INF8801A/notebooks/dataset/audio'"
      ]
     },
     "execution_count": 7,
     "metadata": {},
     "output_type": "execute_result"
    }
   ],
   "source": []
  },
  {
   "cell_type": "code",
   "execution_count": 20,
   "metadata": {},
   "outputs": [],
   "source": [
    "# set paths to the UrbanSound8K dataset and metadata file\n",
    "\n",
    "US8K_AUDIO_PATH = os.path.dirname(os.getcwd()) + '/dataset/audio/'\n",
    "US8K_METADATA_PATH = os.path.dirname(os.getcwd()) + '/dataset/metadata/UrbanSound8K.csv'"
   ]
  },
  {
   "cell_type": "code",
   "execution_count": 22,
   "metadata": {},
   "outputs": [
    {
     "data": {
      "text/html": [
       "<div>\n",
       "<style scoped>\n",
       "    .dataframe tbody tr th:only-of-type {\n",
       "        vertical-align: middle;\n",
       "    }\n",
       "\n",
       "    .dataframe tbody tr th {\n",
       "        vertical-align: top;\n",
       "    }\n",
       "\n",
       "    .dataframe thead th {\n",
       "        text-align: right;\n",
       "    }\n",
       "</style>\n",
       "<table border=\"1\" class=\"dataframe\">\n",
       "  <thead>\n",
       "    <tr style=\"text-align: right;\">\n",
       "      <th></th>\n",
       "      <th>slice_file_name</th>\n",
       "      <th>fold</th>\n",
       "      <th>classID</th>\n",
       "    </tr>\n",
       "  </thead>\n",
       "  <tbody>\n",
       "    <tr>\n",
       "      <th>0</th>\n",
       "      <td>100032-3-0-0.wav</td>\n",
       "      <td>5</td>\n",
       "      <td>3</td>\n",
       "    </tr>\n",
       "    <tr>\n",
       "      <th>1</th>\n",
       "      <td>100263-2-0-117.wav</td>\n",
       "      <td>5</td>\n",
       "      <td>2</td>\n",
       "    </tr>\n",
       "    <tr>\n",
       "      <th>2</th>\n",
       "      <td>100263-2-0-121.wav</td>\n",
       "      <td>5</td>\n",
       "      <td>2</td>\n",
       "    </tr>\n",
       "    <tr>\n",
       "      <th>3</th>\n",
       "      <td>100263-2-0-126.wav</td>\n",
       "      <td>5</td>\n",
       "      <td>2</td>\n",
       "    </tr>\n",
       "    <tr>\n",
       "      <th>4</th>\n",
       "      <td>100263-2-0-137.wav</td>\n",
       "      <td>5</td>\n",
       "      <td>2</td>\n",
       "    </tr>\n",
       "    <tr>\n",
       "      <th>...</th>\n",
       "      <td>...</td>\n",
       "      <td>...</td>\n",
       "      <td>...</td>\n",
       "    </tr>\n",
       "    <tr>\n",
       "      <th>8727</th>\n",
       "      <td>99812-1-2-0.wav</td>\n",
       "      <td>7</td>\n",
       "      <td>1</td>\n",
       "    </tr>\n",
       "    <tr>\n",
       "      <th>8728</th>\n",
       "      <td>99812-1-3-0.wav</td>\n",
       "      <td>7</td>\n",
       "      <td>1</td>\n",
       "    </tr>\n",
       "    <tr>\n",
       "      <th>8729</th>\n",
       "      <td>99812-1-4-0.wav</td>\n",
       "      <td>7</td>\n",
       "      <td>1</td>\n",
       "    </tr>\n",
       "    <tr>\n",
       "      <th>8730</th>\n",
       "      <td>99812-1-5-0.wav</td>\n",
       "      <td>7</td>\n",
       "      <td>1</td>\n",
       "    </tr>\n",
       "    <tr>\n",
       "      <th>8731</th>\n",
       "      <td>99812-1-6-0.wav</td>\n",
       "      <td>7</td>\n",
       "      <td>1</td>\n",
       "    </tr>\n",
       "  </tbody>\n",
       "</table>\n",
       "<p>8732 rows × 3 columns</p>\n",
       "</div>"
      ],
      "text/plain": [
       "         slice_file_name  fold  classID\n",
       "0       100032-3-0-0.wav     5        3\n",
       "1     100263-2-0-117.wav     5        2\n",
       "2     100263-2-0-121.wav     5        2\n",
       "3     100263-2-0-126.wav     5        2\n",
       "4     100263-2-0-137.wav     5        2\n",
       "...                  ...   ...      ...\n",
       "8727     99812-1-2-0.wav     7        1\n",
       "8728     99812-1-3-0.wav     7        1\n",
       "8729     99812-1-4-0.wav     7        1\n",
       "8730     99812-1-5-0.wav     7        1\n",
       "8731     99812-1-6-0.wav     7        1\n",
       "\n",
       "[8732 rows x 3 columns]"
      ]
     },
     "execution_count": 22,
     "metadata": {},
     "output_type": "execute_result"
    }
   ],
   "source": [
    "# load the csv metadata file into a Pandas DataFrame structure\n",
    "us8k_metadata_df = pd.read_csv(US8K_METADATA_PATH,\n",
    "                               usecols=[\"slice_file_name\", \"fold\", \"classID\"],\n",
    "                               dtype={\"fold\": \"uint8\", \"classID\" : \"uint8\"})\n",
    "\n",
    "us8k_metadata_df"
   ]
  },
  {
   "attachments": {},
   "cell_type": "markdown",
   "metadata": {},
   "source": [
    "---"
   ]
  },
  {
   "cell_type": "code",
   "execution_count": 5,
   "metadata": {},
   "outputs": [],
   "source": [
    "## 1. Feature Extraction"
   ]
  },
  {
   "cell_type": "code",
   "execution_count": 23,
   "metadata": {},
   "outputs": [],
   "source": [
    "HOP_LENGTH = 512        # number of samples between successive frames\n",
    "WINDOW_LENGTH = 512     # length of the window in samples\n",
    "N_MEL = 128             # number of Mel bands to generate\n",
    "\n",
    "\n",
    "def compute_melspectrogram_with_fixed_length(audio, sampling_rate, num_of_samples=128):\n",
    "    try:\n",
    "        # compute a mel-scaled spectrogram\n",
    "        melspectrogram = librosa.feature.melspectrogram(y=audio, \n",
    "                                                        sr=sampling_rate, \n",
    "                                                        hop_length=HOP_LENGTH,\n",
    "                                                        win_length=WINDOW_LENGTH, \n",
    "                                                        n_mels=N_MEL)\n",
    "\n",
    "        # convert a power spectrogram to decibel units (log-mel spectrogram)\n",
    "        melspectrogram_db = librosa.power_to_db(melspectrogram, ref=np.max)\n",
    "        \n",
    "        melspectrogram_length = melspectrogram_db.shape[1]\n",
    "        \n",
    "        # pad or fix the length of spectrogram \n",
    "        if melspectrogram_length != num_of_samples:\n",
    "            melspectrogram_db = librosa.util.fix_length(melspectrogram_db, \n",
    "                                                        size=num_of_samples, \n",
    "                                                        axis=1, \n",
    "                                                        constant_values=(0, -80.0))\n",
    "    except Exception as e:\n",
    "        print(\"\\nError encountered while parsing files\\n>>\", e)\n",
    "        return None \n",
    "    \n",
    "    return melspectrogram_db"
   ]
  },
  {
   "cell_type": "code",
   "execution_count": 24,
   "metadata": {},
   "outputs": [
    {
     "name": "stderr",
     "output_type": "stream",
     "text": [
      " 41%|████      | 3554/8732 [01:50<02:15, 38.30it/s]/opt/miniconda3/envs/tpGBM/lib/python3.8/site-packages/librosa/core/spectrum.py:222: UserWarning: n_fft=2048 is too small for input signal of length=1323\n",
      "  warnings.warn(\n",
      " 95%|█████████▌| 8323/8732 [04:11<00:08, 46.08it/s]/opt/miniconda3/envs/tpGBM/lib/python3.8/site-packages/librosa/core/spectrum.py:222: UserWarning: n_fft=2048 is too small for input signal of length=1103\n",
      "  warnings.warn(\n",
      "/opt/miniconda3/envs/tpGBM/lib/python3.8/site-packages/librosa/core/spectrum.py:222: UserWarning: n_fft=2048 is too small for input signal of length=1523\n",
      "  warnings.warn(\n",
      "100%|██████████| 8732/8732 [04:22<00:00, 33.30it/s]\n"
     ]
    }
   ],
   "source": [
    "SOUND_DURATION = 2.95   # fixed duration of an audio excerpt in seconds\n",
    "\n",
    "features = []\n",
    "\n",
    "# iterate through all dataset examples and compute log-mel spectrograms\n",
    "for index, row in tqdm(us8k_metadata_df.iterrows(), total=len(us8k_metadata_df)):\n",
    "    file_path = f'{US8K_AUDIO_PATH}/fold{row[\"fold\"]}/{row[\"slice_file_name\"]}'\n",
    "    audio, sample_rate = librosa.load(file_path, duration=SOUND_DURATION, res_type='kaiser_fast')\n",
    "    \n",
    "    melspectrogram = compute_melspectrogram_with_fixed_length(audio, sample_rate)\n",
    "    label = row[\"classID\"]\n",
    "    fold = row[\"fold\"]\n",
    "    \n",
    "    features.append([melspectrogram, label, fold])\n",
    "\n",
    "# convert into a Pandas DataFrame \n",
    "us8k_df = pd.DataFrame(features, columns=[\"melspectrogram\", \"label\", \"fold\"])"
   ]
  },
  {
   "attachments": {},
   "cell_type": "markdown",
   "metadata": {},
   "source": [
    "---"
   ]
  },
  {
   "attachments": {},
   "cell_type": "markdown",
   "metadata": {},
   "source": [
    "### Store the data"
   ]
  },
  {
   "cell_type": "code",
   "execution_count": 25,
   "metadata": {},
   "outputs": [],
   "source": [
    "# write the Pandas DataFrame object to .pkl file\n",
    "WRITE_DATA = True\n",
    "\n",
    "if WRITE_DATA:\n",
    "  us8k_df.to_pickle(\"us8k_df.pkl\")"
   ]
  }
 ],
 "metadata": {
  "kernelspec": {
   "display_name": "tpGBM",
   "language": "python",
   "name": "python3"
  },
  "language_info": {
   "codemirror_mode": {
    "name": "ipython",
    "version": 3
   },
   "file_extension": ".py",
   "mimetype": "text/x-python",
   "name": "python",
   "nbconvert_exporter": "python",
   "pygments_lexer": "ipython3",
   "version": "3.8.16"
  },
  "orig_nbformat": 4
 },
 "nbformat": 4,
 "nbformat_minor": 2
}
